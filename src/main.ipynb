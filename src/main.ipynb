{
 "cells": [
  {
   "cell_type": "code",
   "execution_count": null,
   "metadata": {},
   "outputs": [],
   "source": [
    "from ddg import Duckduckgo\n",
    "import pandas as pd\n",
    "import requests\n",
    "from dotenv import load_dotenv\n",
    "import os\n",
    "from pydantic_ai import Agent, RunContext\n",
    "from pydantic_ai.models.groq import GroqModel\n",
    "from pydantic_ai.models.ollama import OllamaModel\n",
    "import random\n",
    "import nest_asyncio\n",
    "from pydantic import BaseModel, Field\n",
    "from typing import List\n",
    "from devtools import debug\n",
    "from langchain_ollama import ChatOllama\n",
    "from llama_index.core.settings import Settings\n",
    "from llama_index.core.workflow import (\n",
    "    Event,\n",
    "    StartEvent,\n",
    "    StopEvent,\n",
    "    Workflow,\n",
    "    Context,\n",
    "    step\n",
    ")\n",
    "from tqdm import tqdm\n",
    "\n",
    "nest_asyncio.apply()\n",
    "load_dotenv()"
   ]
  },
  {
   "cell_type": "code",
   "execution_count": 6,
   "metadata": {},
   "outputs": [],
   "source": [
    "from llama_index.llms.ollama import Ollama\n",
    "\n",
    "local_llm = Ollama(model=\"llama3.2:3b\")\n",
    "\n",
    "res = await local_llm.acomplete('hey')"
   ]
  },
  {
   "cell_type": "code",
   "execution_count": 7,
   "metadata": {},
   "outputs": [
    {
     "data": {
      "text/plain": [
       "CompletionResponse(text=\"How's it going? Is there something I can help you with or would you like to chat?\", additional_kwargs={'tool_calls': []}, raw={'model': 'llama3.2:3b', 'created_at': '2024-12-30T14:24:32.708289Z', 'done': True, 'done_reason': 'stop', 'total_duration': 2146374600, 'load_duration': 1669661800, 'prompt_eval_count': 26, 'prompt_eval_duration': 116000000, 'eval_count': 21, 'eval_duration': 358000000, 'message': Message(role='assistant', content=\"How's it going? Is there something I can help you with or would you like to chat?\", images=None, tool_calls=None), 'usage': {'prompt_tokens': 26, 'completion_tokens': 21, 'total_tokens': 47}}, logprobs=None, delta=None)"
      ]
     },
     "execution_count": 7,
     "metadata": {},
     "output_type": "execute_result"
    }
   ],
   "source": [
    "res"
   ]
  },
  {
   "cell_type": "code",
   "execution_count": 2,
   "metadata": {},
   "outputs": [
    {
     "data": {
      "text/plain": [
       "[{'title': 'Tata Motors Market Share Of PV, CV And Electric Vehicles',\n",
       "  'href': 'https://stockdividendscreener.com/auto-manufacturers/tata-motors-market-share/',\n",
       "  'body': 'Tata Motors’ market share for CV passenger vehicles has decreased from 46% in 2017 to 44.8% in 2022, while the market share for small commercial vehicles & pickups has remained relatively unchanged.'},\n",
       " {'title': 'Tata Motors Vehicle Sales By Market Type And Category',\n",
       "  'href': 'https://stockdividendscreener.com/auto-manufacturers/tata-motors-car-and-vehicle-sales-figures/',\n",
       "  'body': 'On the other hand, Tata Motors’ commercial vehicle sales clocked just 395,800 units in fiscal year 2024, a decrease of 18,000 vehicles from fiscal year 2023 and was much lower than the sales volume of the passenger vehicle segment.'}]"
      ]
     },
     "execution_count": 2,
     "metadata": {},
     "output_type": "execute_result"
    }
   ],
   "source": [
    "from duckduckgo_search import DDGS\n",
    "\n",
    "list_ = DDGS().text(  \n",
    "        keywords = 'Tata Motors market share electric vehicles commercial trucks passenger cars',\n",
    "        region = 'wt-wt',\n",
    "        safesearch = 'off',\n",
    "        timelimit = '7d',\n",
    "        max_results = 2\n",
    "    )\n",
    "\n",
    "list_"
   ]
  },
  {
   "cell_type": "code",
   "execution_count": 3,
   "metadata": {},
   "outputs": [
    {
     "data": {
      "text/plain": [
       "'Title: Tata Motors Market Share Of PV, CV And Electric Vehicles\\n\\nURL Source: https://stockdividendscreener.com/auto-manufacturers/tata-motors-market-share/\\n\\nMarkdown Content:\\n![Image 22: traffic in india](https://stockdividendscreener.com/wp-content/uploads/2024/02/traffic-in-india.jpg)\\n\\nTraffic in India. Pixabay Image.\\n\\nTata Motors is one of the largest automotive manufacturers in India, with a significant market share in the country’s automotive industry. The company has a strong presence in the Indian market and is a major player in the automotive industry.\\n\\nThis article presents Tata Motors’s market share in India for various types of vehicles, including commercial and passenger vehicles.\\n\\nTata Motors’ commercial vehicles include large, medium and small commercial vehicles, while passenger vehicles include passenger cars and utility vehicles.\\n\\nLet’s take a look!\\n\\nPlease use the _table of contents_ to navigate this page.\\n\\n### Table Of Contents\\n\\n#### Definitions And Overview\\n\\nO1. [Definitions](https://stockdividendscreener.com/auto-manufacturers/tata-motors-market-share/#O1)\\n\\n*   [Vehicle Wholesale](https://stockdividendscreener.com/auto-manufacturers/tata-motors-market-share/#vehicle-wholesale)\\n*   [Vahan Registration](https://stockdividendscreener.com/auto-manufacturers/tata-motors-market-share/#vahan-registration)\\n*   [Tata Commercial Vehicles](https://stockdividendscreener.com/auto-manufacturers/tata-motors-market-share/#tata-commercial-vehicles)\\n*   [Tata Passenger Vehicles](https://stockdividendscreener.com/auto-manufacturers/tata-motors-market-share/#tata-passenger-vehicles)\\n*   [Heavy Goods and Motor Vehicles](https://stockdividendscreener.com/auto-manufacturers/tata-motors-market-share/#heavy-goods-vehicles)\\n*   [Medium Goods Vehicles](https://stockdividendscreener.com/auto-manufacturers/tata-motors-market-share/#medium-goods-vehicles)\\n*   [Light Goods Vehicles](https://stockdividendscreener.com/auto-manufacturers/tata-motors-market-share/#light-goods-vehicles)\\n*   [Passenger Cars](https://stockdividendscreener.com/auto-manufacturers/tata-motors-market-share/#passenger-cars)\\n*   [Utility Vehicles](https://stockdividendscreener.com/auto-manufacturers/tata-motors-market-share/#utility-vehicles)\\n*   [SCV & Pickup](https://stockdividendscreener.com/auto-manufacturers/tata-motors-market-share/#scv-and-pickup)\\n*   [MHCVs and ILCV](https://stockdividendscreener.com/auto-manufacturers/tata-motors-market-share/#mhcv-and-ilcv)\\n*   [CV Passenger Vehicles](https://stockdividendscreener.com/auto-manufacturers/tata-motors-market-share/#cv-passenger-vehicles)\\n*   [Electric Vehicles](https://stockdividendscreener.com/auto-manufacturers/tata-motors-market-share/#electric-vehicles)\\n\\nO2. [How Tata Motors Measures Its Market Share](https://stockdividendscreener.com/auto-manufacturers/tata-motors-market-share/#O2)\\n\\n#### Passenger Vehicle Market Share Based On Vahan Registration\\n\\nA1. [Passenger Vehicle Market Share](https://stockdividendscreener.com/auto-manufacturers/tata-motors-market-share/#A1)  \\nA2. [Passenger Cars And Utility Vehicle Market Share](https://stockdividendscreener.com/auto-manufacturers/tata-motors-market-share/#A2)\\n\\n#### Commercial Vehicle Market Share Based On Vahan Registration\\n\\nA3. [Commercial Vehicle Market Share](https://stockdividendscreener.com/auto-manufacturers/tata-motors-market-share/#A3)  \\nA4. [Commercial Vehicle Market Share By Category](https://stockdividendscreener.com/auto-manufacturers/tata-motors-market-share/#A4)\\n\\n#### Passenger Vehicle Market Share Based On Wholesale\\n\\nB1. [Passenger Vehicle Market Share](https://stockdividendscreener.com/auto-manufacturers/tata-motors-market-share/#B1)  \\nB2. [Passenger Cars And Utility Vehicle Market Share](https://stockdividendscreener.com/auto-manufacturers/tata-motors-market-share/#B2)\\n\\n#### Commercial Vehicle Market Share Based On Wholesale\\n\\nB3. [Commercial Vehicle Market Share](https://stockdividendscreener.com/auto-manufacturers/tata-motors-market-share/#B3)  \\nB4. [Commercial Vehicle Market Share By Category](https://stockdividendscreener.com/auto-manufacturers/tata-motors-market-share/#B4)\\n\\n#### EV Adoption In India\\n\\nC1. [EV Market Share](https://stockdividendscreener.com/auto-manufacturers/tata-motors-market-share/#C1)\\n\\n#### Conclusion And Reference\\n\\nS1. [Conclusion](https://stockdividendscreener.com/auto-manufacturers/tata-motors-market-share/#S1)  \\nS2. [References and Credits](https://stockdividendscreener.com/auto-manufacturers/tata-motors-market-share/#S2)  \\nS3. [Disclosure](https://stockdividendscreener.com/auto-manufacturers/tata-motors-market-share/#S3)\\n\\nDefinitions\\n-----------\\n\\nTo help readers understand the content better, the following terms and glossaries have been provided.\\n\\n_Vehicle Wholesale_: Vehicle wholesale refers to buying and selling vehicles in large quantities, usually from manufacturers or dealerships to other dealerships or businesses. This can be an important aspect of the automotive industry, as it allows companies to acquire inventory at a lower cost than buying cars individually. Wholesale transactions often involve negotiating bulk prices, arranging shipping and delivery, and managing paperwork and financing.\\n\\n_Tata Commercial Vehicles_: Tata commercial vehicles include small commercial vehicles & pickups (SCV & pickups), medium and heavy commercial vehicles, and intermediate light commercial vehicles and commercial vehicle passenger vehicles (CV passenger vehicles) manufactured under the Tata and Daewoo brands (and excludes vehicles manufactured under the Jaguar Land Rover brand).\\n\\n_Vahan Registration_: Vahan registration refers to registering a motor vehicle with the government’s Vahan database system. The Indian government uses this system to maintain a centralized record of all motor vehicles and their owners in the country.\\n\\nThe registration process involves submitting various documents, such as proof of ownership, insurance, and pollution control certificate, along with the required fees, to the area’s Regional Transport Office (RTO). Once the registration is complete, the vehicle is assigned a unique registration number and a registration certificate. This certificate proves that the vehicle has been registered with the government and is legally allowed to be driven on public roads.\\n\\n[Back To Table Of Contents](https://stockdividendscreener.com/auto-manufacturers/tata-motors-market-share/#TOP)\\n\\n_Tata Passenger Vehicles_: Tata passenger vehicles include passenger cars and utility vehicles manufactured under the Tata and Fiat brands (and excludes vehicles manufactured under the Jaguar Land Rover brand).\\n\\n_Heavy Goods and Motor Vehicles (HGV+MGV)_: Heavy Goods Vehicles (HGVs) are large commercial vehicles transporting goods or materials over long distances. They typically weigh over 3.5 tonnes and are used for various purposes, such as delivering goods to retailers, transporting construction materials to building sites and hauling raw materials to factories.\\n\\n_Medium Goods Vehicles_: Medium Goods Vehicles (MGVs) are commercial vehicles with a gross vehicle weight (GVW) between 3.5 and 7.5 tonnes. They are typically used for transporting goods and materials over short to medium distances and are commonly seen on urban roads and highways. MGVs can come in various configurations, such as box vans, flatbed trucks, and refrigerated vehicles, and are often used by businesses for delivering goods to customers or transporting equipment and supplies between locations.\\n\\n_Light Goods Vehicles_: Light Goods Vehicles, also known as LCVs, are commercial vehicles designed to transport goods. They typically have a maximum weight of 3.5 tonnes and are smaller than heavy goods vehicles (HGVs). LCVs are commonly used by small businesses, tradespeople, and delivery companies for transporting goods and equipment. They are available in various types, including vans, pickup trucks, and small lorries.\\n\\n[Back To Table Of Contents](https://stockdividendscreener.com/auto-manufacturers/tata-motors-market-share/#TOP)\\n\\n_Passenger Cars_: Tata-branded passenger cars include the Tiago (compact), Tiago EV, and the Altroz (premium) in the hatchback category, and the Tigor, Tigor EV, Xpres T-EV (mid-size) in the sedan  \\ncategory.\\n\\n_Utility Vehicles_: Tata-branded utility vehicles include the Harrier, the Nexon, the Nexon (EV), Nexon EV Max, Punch, and Safari.\\n\\n_SCV & Pickup_: Tata Motors manufactures a variety of small Commercial Vehicles and pickup trucks (less than 3.5 tons).\\n\\nThis includes the Tata Ace, India’s first indigenously developed mini-truck, with a sub-1 ton payload with different fuel options (Diesel, CNG, Gasolene, EV), the Tata Intra (V10, V20, V30, V50) with varying options of payload and the Tata Yodha pickup range with single cab and double cab variants and 4X2 and 4X4 options including the 2-Ton payload variant.\\n\\n[Back To Table Of Contents](https://stockdividendscreener.com/auto-manufacturers/tata-motors-market-share/#TOP)\\n\\n_MHCV and ILCV_: Tata Motors manufactures a variety of MHCVs and ILCVs, which include trucks, tractors, tippers, multi-axle vehicles and pickups with GVWs (including payload) of between 3.5 tons and 55 tons.\\n\\nTata Motors also provides fully built solutions for special applications like garbage compactors, containers, tankers, reefers, and diesel bowsers to customers and various government organizations, including solutions related to national defense. In addition, through TDCV, Tata Motors manufactures a wide array of trucks ranging from 215 horsepower to 560 horsepower, including dump trucks, tractor-trailers, mixers, and cargo vehicles.\\n\\nTata’s signature product is the Prima range of trucks, which are sold in India and South Korea and exported to several countries in South Asia, the Middle East, and Africa. The SIGNA range of new MHCV trucks launched in 2016 has been extended to several additional tractor and tipper variants.\\n\\nSimilarly, the newest addition to this portfolio—the Ultra range—now spans multiple tonnage points starting from 5-ton Light Commercial Vehicles (“LCV”) to 30-ton tractors.\\n\\n_CV Passenger Vehicles_: Tata Motors manufactures a variety of passenger carriers, including buses. Its products include Magic Express, including an electric variant, a passenger variant for commercial transportation developed on the Tata Ace platform, and the Winger.\\n\\nTata also offers a range of buses, which includes the Semi Deluxe Starbus Ultra Contract Bus and the new Starbus Ultra. Its range of buses is intended for various uses, including intercity coaches (with air-conditioned and non-air-conditioned luxury variants), school transportation, and ambulances.\\n\\nTata also offers various electric buses in different configurations for every application.\\n\\n_Electric Vehicles_: Tata Motors’ electric vehicles are a range of eco-friendly cars that are powered by electricity instead of traditional fossil fuels. These vehicles are designed to reduce carbon emissions and provide a more sustainable mode of transportation.\\n\\nTata Motors has several electric vehicles in its lineup, including the Tata Nexon EV, the Tata Tigor EV, and the Tata Altroz EV. These vehicles have impressive features such as fast charging, long battery life, and smart connectivity. They are also designed to offer a comfortable and safe driving experience while being environmentally responsible.\\n\\n[Back To Table Of Contents](https://stockdividendscreener.com/auto-manufacturers/tata-motors-market-share/#TOP)\\n\\nHow Tata Motors Measures Its Market Share\\n-----------------------------------------\\n\\nStarting fiscal year 2023, Tata Motors measures its market share in India based on Vahan Registration volumes. The definition of Vahan Registration is available here: [Vahan Registration](https://stockdividendscreener.com/auto-manufacturers/tata-motors-market-share/#vahan-registration).\\n\\nBefore 2023, Tata Motors compared its vehicle wholesale volume against the industry volume to arrive at the market share numbers. The definition of vehicle wholesale is available here: [vehicle wholesale](https://stockdividendscreener.com/auto-manufacturers/tata-motors-market-share/#vehicle-wholesale).\\n\\n[Back To Table Of Contents](https://stockdividendscreener.com/auto-manufacturers/tata-motors-market-share/#TOP)\\n\\nPassenger Vehicle Market Share\\n------------------------------\\n\\n[![Image 23: Tata-Motors-market-share-for-passenger-vehicles-vahan](https://stockdividendscreener.com/wp-content/uploads/2024/02/Tata-Motors-market-share-for-passenger-vehicles-vahan.jpg)](https://stockdividendscreener.com/wp-content/uploads/2024/02/Tata-Motors-market-share-for-passenger-vehicles-vahan.jpg)\\n\\nTata-Motors-market-share-for-passenger-vehicles-vahan\\n\\n(click image to expand)\\n\\n\\\\* Tata Motors’ fiscal year begins on April 1 and ends on March 31.\\n\\n\\\\* Tata Motors’ fiscal year 2023 ended on March 31, 2023.\\n\\nThe definition of Tata’s passenger vehicles is available here: [passenger vehicles](https://stockdividendscreener.com/auto-manufacturers/tata-motors-market-share/#tata-passenger-vehicles).\\n\\nTata Motors’ total market share in India for passenger vehicles landed at 13.5% as of fiscal 2023, up slightly over 11.4% in 2022.\\n\\n[Back To Table Of Contents](https://stockdividendscreener.com/auto-manufacturers/tata-motors-market-share/#TOP)\\n\\nPassenger Cars And Utility Vehicle Market Share\\n-----------------------------------------------\\n\\n[![Image 24: Tata-Motors-market-share-for-passenger-cars-and-utility-vehicles-vahan](https://stockdividendscreener.com/wp-content/uploads/2024/02/Tata-Motors-market-share-for-passenger-cars-and-utility-vehicles-vahan.jpg)](https://stockdividendscreener.com/wp-content/uploads/2024/02/Tata-Motors-market-share-for-passenger-cars-and-utility-vehicles-vahan.jpg)\\n\\nTata-Motors-market-share-for-passenger-cars-and-utility-vehicles-vahan\\n\\n(click image to expand)\\n\\n\\\\* Tata Motors’ fiscal year begins on April 1 and ends on March 31.\\n\\n\\\\* Tata Motors’ fiscal year 2023 ended on March 31, 2023.\\n\\nThe definitions of Tata’s passenger cars and utility vehicles are available here: [passenger cars](https://stockdividendscreener.com/auto-manufacturers/tata-motors-market-share/#passenger-cars) and [utility vehicles](https://stockdividendscreener.com/auto-manufacturers/tata-motors-market-share/#utility-vehicles).\\n\\nWithin the passenger vehicle segment, Tata Motors had a market share of 16.7% and 10.4% for utility vehicles and passenger cars, respectively, in fiscal 2023.\\n\\nThese numbers are slightly higher from 2022’s results.\\n\\n[Back To Table Of Contents](https://stockdividendscreener.com/auto-manufacturers/tata-motors-market-share/#TOP)\\n\\nCommercial Vehicle Market Share\\n-------------------------------\\n\\n[![Image 25: Tata-Motors-market-share-for-commercial-vehicles-vahan](https://stockdividendscreener.com/wp-content/uploads/2024/02/Tata-Motors-market-share-for-commercial-vehicles-vahan.jpg)](https://stockdividendscreener.com/wp-content/uploads/2024/02/Tata-Motors-market-share-for-commercial-vehicles-vahan.jpg)\\n\\nTata-Motors-market-share-for-commercial-vehicles-vahan\\n\\n(click image to expand)\\n\\n\\\\* Tata Motors’ fiscal year begins on April 1 and ends on March 31.\\n\\n\\\\* Tata Motors’ fiscal year 2023 ended on March 31, 2023.\\n\\nThe definition of Tata’s commercial vehicles is available here: [commercial vehicles](https://stockdividendscreener.com/auto-manufacturers/tata-motors-market-share/#tata-commercial-vehicles).\\n\\nTata Motors’ total market share in India for commercial vehicles arrived at 41.7% as of fiscal 2023, down significantly over 44.7% in 2022.\\n\\n[Back To Table Of Contents](https://stockdividendscreener.com/auto-manufacturers/tata-motors-market-share/#TOP)\\n\\nCommercial Vehicle Market Share By Category\\n-------------------------------------------\\n\\n[![Image 26: Tata-Motors-market-share-for-commercial-vehicles-by-category-vahan](https://stockdividendscreener.com/wp-content/uploads/2024/02/Tata-Motors-market-share-for-commercial-vehicles-by-category-vahan.jpg)](https://stockdividendscreener.com/wp-content/uploads/2024/02/Tata-Motors-market-share-for-commercial-vehicles-by-category-vahan.jpg)\\n\\nTata-Motors-market-share-for-commercial-vehicles-by-category-vahan\\n\\n(click image to expand)\\n\\n\\\\* Tata Motors’ fiscal year begins on April 1 and ends on March 31.\\n\\n\\\\* Tata Motors’ fiscal year 2023 ended on March 31, 2023.\\n\\nThe definitions of Tata’s heavy goods vehicles, medium goods vehicles, light goods vehicles, and CV passenger vehicles are available here: [heavy goods vehicles](https://stockdividendscreener.com/auto-manufacturers/tata-motors-market-share/#heavy-goods-vehicles), [medium goods vehicles](https://stockdividendscreener.com/auto-manufacturers/tata-motors-market-share/#medium-goods-vehicles), [light goods vehicles](https://stockdividendscreener.com/auto-manufacturers/tata-motors-market-share/#light-goods-vehicles), and [CV passenger vehicles](https://stockdividendscreener.com/auto-manufacturers/tata-motors-market-share/#cv-passenger-vehicles).\\n\\nWithin the commercial vehicle segment, Tata Motors had a market share of 49.6% and 44.2% for heavy goods and medium goods vehicles, respectively, in fiscal 2023. These numbers are slightly lower from 2022’s results.\\n\\nOn the other hand, Tata Motors’ market share for CV passenger vehicles increased to 38.4% in fiscal 2023 from 35.9% in 2022, while the market share for light goods vehicles decreased to 37.8% in fiscal 2023 from 41.4% in 2022.\\n\\n[Back To Table Of Contents](https://stockdividendscreener.com/auto-manufacturers/tata-motors-market-share/#TOP)\\n\\nPassenger Vehicle Market Share\\n------------------------------\\n\\n[![Image 27: Tata-Motors-market-share-for-passenger-vehicles-wholesale](https://stockdividendscreener.com/wp-content/uploads/2024/02/Tata-Motors-market-share-for-passenger-vehicles-wholesale.jpg)](https://stockdividendscreener.com/wp-content/uploads/2024/02/Tata-Motors-market-share-for-passenger-vehicles-wholesale.jpg)\\n\\nTata-Motors-market-share-for-passenger-vehicles-wholesale\\n\\n(click image to expand)\\n\\n\\\\* Tata Motors’ fiscal year begins on April 1 and ends on March 31.\\n\\n\\\\* Tata Motors’ fiscal year 2023 ended on March 31, 2023.\\n\\nThe definition of Tata’s passenger vehicles is available here: [passenger vehicles](https://stockdividendscreener.com/auto-manufacturers/tata-motors-market-share/#tata-passenger-vehicles).\\n\\nTata Motors’ total market share in India for passenger vehicles has significantly risen from 4.8% in fiscal 2020 to 12.5% in fiscal 2022.\\n\\n[Back To Table Of Contents](https://stockdividendscreener.com/auto-manufacturers/tata-motors-market-share/#TOP)\\n\\nPassenger Cars And Utility Vehicle Market Share\\n-----------------------------------------------\\n\\n[![Image 28: Tata-Motors-market-share-for-passenger-cars-and-utility-vehicles-wholesale](https://stockdividendscreener.com/wp-content/uploads/2024/02/Tata-Motors-market-share-for-passenger-cars-and-utility-vehicles-wholesale.jpg)](https://stockdividendscreener.com/wp-content/uploads/2024/02/Tata-Motors-market-share-for-passenger-cars-and-utility-vehicles-wholesale.jpg)\\n\\nTata-Motors-market-share-for-passenger-cars-and-utility-vehicles-wholesale\\n\\n(click image to expand)\\n\\n\\\\* Tata Motors’ fiscal year begins on April 1 and ends on March 31.\\n\\n\\\\* Tata Motors’ fiscal year 2023 ended on March 31, 2023.\\n\\nThe definitions of Tata’s passenger cars and utility vehicles are available here: [passenger cars](https://stockdividendscreener.com/auto-manufacturers/tata-motors-market-share/#passenger-cars) and [utility vehicles](https://stockdividendscreener.com/auto-manufacturers/tata-motors-market-share/#utility-vehicles).\\n\\nWithin the passenger vehicle segment, Tata Motors’s market share for utility vehicles in India has risen the most compared to passenger cars.\\n\\nAs shown in the chart above, Tata Motors’s market share for utility vehicles was just 2% in fiscal 2017. This figure has risen to as much as 15.1% in 2022, a massive increase in just 5 years.\\n\\nOn the other hand, Tata Motors’s market share for passenge cars in India has increased from 6.5% in fiscal 2017 to 9.8% in fiscal 2022.\\n\\n[Back To Table Of Contents](https://stockdividendscreener.com/auto-manufacturers/tata-motors-market-share/#TOP)\\n\\nCommercial Vehicle Market Share\\n-------------------------------\\n\\n[![Image 29: Tata-Motors-market-share-for-commercial-vehicles-wholesale](https://stockdividendscreener.com/wp-content/uploads/2024/02/Tata-Motors-market-share-for-commercial-vehicles-wholesale.jpg)](https://stockdividendscreener.com/wp-content/uploads/2024/02/Tata-Motors-market-share-for-commercial-vehicles-wholesale.jpg)\\n\\nTata-Motors-market-share-for-commercial-vehicles-wholesale\\n\\n(click image to expand)\\n\\n\\\\* Tata Motors’ fiscal year begins on April 1 and ends on March 31.\\n\\n\\\\* Tata Motors’ fiscal year 2023 ended on March 31, 2023.\\n\\nThe definition of Tata’s commercial vehicles is available here: [commercial vehicles](https://stockdividendscreener.com/auto-manufacturers/tata-motors-market-share/#tata-commercial-vehicles).\\n\\nTata Motors’ total market share in India for commercial vehicles arrived at 44.9% in fiscal 2022. This figure has was slightly higher than 43.0% in 2020.\\n\\n[Back To Table Of Contents](https://stockdividendscreener.com/auto-manufacturers/tata-motors-market-share/#TOP)\\n\\nCommercial Vehicle Market Share By Category\\n-------------------------------------------\\n\\n[![Image 30: Tata-Motors-market-share-for-commercial-vehicles-by-category-wholesale](https://stockdividendscreener.com/wp-content/uploads/2024/02/Tata-Motors-market-share-for-commercial-vehicles-by-category-wholesale.jpg)](https://stockdividendscreener.com/wp-content/uploads/2024/02/Tata-Motors-market-share-for-commercial-vehicles-by-category-wholesale.jpg)\\n\\nTata-Motors-market-share-for-commercial-vehicles-by-category-wholesale\\n\\n(click image to expand)\\n\\n\\\\* Tata Motors’ fiscal year begins on April 1 and ends on March 31.\\n\\n\\\\* Tata Motors’ fiscal year 2023 ended on March 31, 2023.\\n\\nThe definition of MHCV, ILCV, SCV & Pickup, and CV Passenger Vehicle can be found here: [MHCV And ILCV](https://stockdividendscreener.com/auto-manufacturers/tata-motors-market-share/#mhcv-and-ilcv), [SCV & Pickup](https://stockdividendscreener.com/auto-manufacturers/tata-motors-market-share/#scv-and-pickup), and [CV Passenger Vehicles](https://stockdividendscreener.com/auto-manufacturers/tata-motors-market-share/#cv-passenger-vehicles).\\n\\nWithin the commercial vehicle segment, Tata Motors’ market share for medium and heavy commercial vehicles reached 58.2% in fiscal 2022, a much higher result than 55.1% in fiscal 2017.\\n\\nOn the other hand, Tata Motors had a market share of 49.0% for intermediate and light commercial vehicles in fiscal 2022, a significant rise from 42.4% in 2017.\\n\\nTata Motors’ market share for CV passenger vehicles has decreased from 46% in 2017 to 44.8% in 2022, while the market share for small commercial vehicles & pickups has remained relatively unchanged.\\n\\n[Back To Table Of Contents](https://stockdividendscreener.com/auto-manufacturers/tata-motors-market-share/#TOP)\\n\\nEV Market Share\\n---------------\\n\\n[![Image 31: Tata-Motors-market-share-for-electric-vehicles](https://stockdividendscreener.com/wp-content/uploads/2024/02/Tata-Motors-market-share-for-electric-vehicles.jpg)](https://stockdividendscreener.com/wp-content/uploads/2024/02/Tata-Motors-market-share-for-electric-vehicles.jpg)\\n\\nTata-Motors-market-share-for-electric-vehicles\\n\\n(click image to expand)\\n\\n\\\\* Tata Motors’ fiscal year begins on April 1 and ends on March 31.\\n\\n\\\\* Tata Motors’ fiscal year 2023 ended on March 31, 2023.\\n\\nThe definition of Tata’s EV is available here: [electric vehicles](https://stockdividendscreener.com/auto-manufacturers/tata-motors-market-share/#electric-vehicles).\\n\\nTata Motors’ claimed to have an EV market share of up to 84% in India. The following quote extrated from the 2023 20-F form depicts Tata Motors’ EV market share in India:\\n\\n*   Tata Motors Limited has been a front-runner in EV adoption in India with close to 84% market share in EVs for Fiscal 2023. With increased demand for EVs, favorable government policies, and the creation of charging infrastructure, the EV business space is gaining good traction.\\n\\n[Back To Table Of Contents](https://stockdividendscreener.com/auto-manufacturers/tata-motors-market-share/#TOP)\\n\\nConclusion\\n----------\\n\\nTata Motors has a significant market share in India for passenger and commercial vehicles. Particularly, Tata Motors’ market share in India exceeds 50% for some vehicle types under the commercial segment.\\n\\nBesides, Tata Motors’ market share for passenger and commercial vehicles has significantly improved in the past several years, especially in post-COVID periods.\\n\\nMoreover, it claimed to have a market share of up to 84% in India for electric vehicles.\\n\\n[Back To Table Of Contents](https://stockdividendscreener.com/auto-manufacturers/tata-motors-market-share/#TOP)\\n\\nCredits And References\\n----------------------\\n\\n1\\\\. All financial data presented in this article was obtained and referenced from Tata Motors’ Form 20-F, which is available in [Tata’s SEC Filings](https://www.tatamotors.com/sec-filings/).\\n\\n2\\\\. Pixabay Images.\\n\\n[Back To Table Of Contents](https://stockdividendscreener.com/auto-manufacturers/tata-motors-market-share/#TOP)\\n\\nDisclosure\\n----------\\n\\nReferences and examples such as tables, charts, and diagrams are constantly reviewed to avoid errors, but we cannot warrant the total correctness of all content.\\n\\nThe content in this article is for informational purposes only and is neither a recommendation nor a piece of financial advice to purchase a stock.\\n\\nIf you find the information in this article helpful, please consider sharing it on social media and provide a link to this article from any website so that more articles like this can be created.\\n\\nThank you!\\n\\n[Back To Table Of Contents](https://stockdividendscreener.com/auto-manufacturers/tata-motors-market-share/#TOP)\\n'"
      ]
     },
     "execution_count": 3,
     "metadata": {},
     "output_type": "execute_result"
    }
   ],
   "source": [
    "from utils.helper import helper\n",
    "\n",
    "response = helper._apiRequest(url = list_[0]['href'])\n",
    "\n",
    "response"
   ]
  },
  {
   "cell_type": "code",
   "execution_count": 1,
   "metadata": {},
   "outputs": [
    {
     "name": "stderr",
     "output_type": "stream",
     "text": [
      "c:\\Users\\Archit\\AppData\\Local\\pypoetry\\Cache\\virtualenvs\\market-research-agent-m8UpT5-t-py3.11\\Lib\\site-packages\\tqdm\\auto.py:21: TqdmWarning: IProgress not found. Please update jupyter and ipywidgets. See https://ipywidgets.readthedocs.io/en/stable/user_install.html\n",
      "  from .autonotebook import tqdm as notebook_tqdm\n",
      "None of PyTorch, TensorFlow >= 2.0, or Flax have been found. Models won't be available and only tokenizers, configuration and file/data utilities can be used.\n"
     ]
    },
    {
     "name": "stdout",
     "output_type": "stream",
     "text": [
      "Config Complete\n"
     ]
    }
   ],
   "source": [
    "import nest_asyncio\n",
    "nest_asyncio.apply()  \n",
    "\n",
    "from workflows.web_search_workflow import WebSearchWorkflow\n",
    "from utils.settings import project_settings\n",
    "\n",
    "print(\"Config Complete\")"
   ]
  },
  {
   "cell_type": "code",
   "execution_count": null,
   "metadata": {},
   "outputs": [],
   "source": [
    "from workflows.research_workflow import ResearchWorkflow\n",
    "from utils.settings import project_settings\n",
    "from llama_index.core.settings import Settings\n",
    "\n",
    "rwf = ResearchWorkflow(timeout=None, verbose=True)\n",
    "result = await rwf.run(company_name = 'Tata Motors', industry_name = 'Automotive', query_LLM = project_settings.query_LLM)"
   ]
  },
  {
   "cell_type": "code",
   "execution_count": 5,
   "metadata": {},
   "outputs": [
    {
     "name": "stdout",
     "output_type": "stream",
     "text": [
      "Token count: 1787\n",
      "Token count: 2922\n"
     ]
    }
   ],
   "source": [
    "from workflows.generate_usecase_workflow import GenerateUseCaseWorkflow\n",
    "\n",
    "gen = GenerateUseCaseWorkflow(timeout=None)\n",
    "response = await gen.run(extracted_data = result)\n"
   ]
  },
  {
   "cell_type": "code",
   "execution_count": null,
   "metadata": {},
   "outputs": [],
   "source": [
    "print(response)"
   ]
  }
 ],
 "metadata": {
  "kernelspec": {
   "display_name": "market-research-agent-m8UpT5-t-py3.11",
   "language": "python",
   "name": "python3"
  },
  "language_info": {
   "codemirror_mode": {
    "name": "ipython",
    "version": 3
   },
   "file_extension": ".py",
   "mimetype": "text/x-python",
   "name": "python",
   "nbconvert_exporter": "python",
   "pygments_lexer": "ipython3",
   "version": "3.11.4"
  }
 },
 "nbformat": 4,
 "nbformat_minor": 2
}
