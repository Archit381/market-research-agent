{
 "cells": [
  {
   "cell_type": "code",
   "execution_count": null,
   "metadata": {},
   "outputs": [],
   "source": [
    "from ddg import Duckduckgo\n",
    "from duckduckgo_search import DDGS\n",
    "import pandas as pd\n",
    "import requests\n",
    "from dotenv import load_dotenv\n",
    "import os\n",
    "from pydantic_ai import Agent, RunContext\n",
    "from pydantic_ai.models.groq import GroqModel\n",
    "from pydantic_ai.models.ollama import OllamaModel\n",
    "import random\n",
    "import nest_asyncio\n",
    "from pydantic import BaseModel, Field\n",
    "from typing import List\n",
    "from devtools import debug\n",
    "from langchain_ollama import ChatOllama\n",
    "from llama_index.llms.ollama import Ollama\n",
    "from llama_index.core.settings import Settings\n",
    "from llama_index.core.workflow import (\n",
    "    Event,\n",
    "    StartEvent,\n",
    "    StopEvent,\n",
    "    Workflow,\n",
    "    Context,\n",
    "    step\n",
    ")\n",
    "from tqdm import tqdm\n",
    "\n",
    "nest_asyncio.apply()\n",
    "load_dotenv()"
   ]
  },
  {
   "cell_type": "code",
   "execution_count": 12,
   "metadata": {},
   "outputs": [
    {
     "name": "stdout",
     "output_type": "stream",
     "text": [
      "Config Complete\n",
      "Running step _webSearch\n",
      "Step _webSearch produced event WebSearchEvent\n",
      "Running step _scrapeURL\n"
     ]
    },
    {
     "name": "stderr",
     "output_type": "stream",
     "text": [
      "Scraping search results: 100%|██████████| 2/2 [00:20<00:00, 10.03s/it]\n"
     ]
    },
    {
     "name": "stdout",
     "output_type": "stream",
     "text": [
      "Step _scrapeURL produced event StopEvent\n",
      "VISION\n",
      "\n",
      "As a high-performance Organization, we are by FY2019\n",
      "\n",
      "*   Among the Top 3 Global CV and Domestic PV\n",
      "*   Achieving Sustainable Financial Performance\n",
      "*   Delivering Exciting Innovation\n",
      "\n",
      "To become the most aspirational  \n",
      "Indian auto brand by 2024\n",
      "\n",
      "Our vision is to be a world-class, future-ready organization, driven by a passion for innovation, customer-centricity, and sustainability. We aim to be among the top three global commercial vehicle and domestic passenger vehicle manufacturers, achieving sustainable financial performance and delivering exciting innovations. \n",
      "\n",
      "We are committed to making responsible choices, creating a positive legacy, and connecting aspirations. Our human-centric, hi-tech approach is evident in our extensive range of integrated and smart e-mobility solutions. \n",
      "\n",
      "With emphasis on decarbonisation, circular economy, and preservation of the natural environment, we are integrating sustainability into our business strategy. We are dedicated to the success of our people, which results in ours, and we have a meritorious and inclusive culture that attracts bright, passionate, and caring people committed to doing their best for our customers and our communities. \n",
      "\n",
      "At Tata Motors, great customer experience is the start of everything, and we adhere to a sustainable, no-compromise approach to deliver customer satisfaction. We are India’s leading vehicle manufacturer with a large global presence, and in every market, our focus is on delivering value and partnering customers to success.\n"
     ]
    }
   ],
   "source": [
    "from workflows.web_search_workflow import WebSearchWorkflow\n",
    "from utils.settings import project_settings\n",
    "\n",
    "print(\"Config Complete\")\n",
    "\n",
    "search_workflow = WebSearchWorkflow(timeout=60, verbose=True)\n",
    "result = await search_workflow.run(search_query = \"Tata Motors vision\")\n",
    "print(result.main)\n"
   ]
  },
  {
   "cell_type": "code",
   "execution_count": 1,
   "metadata": {},
   "outputs": [
    {
     "name": "stderr",
     "output_type": "stream",
     "text": [
      "c:\\Users\\Archit\\AppData\\Local\\pypoetry\\Cache\\virtualenvs\\market-research-agent-m8UpT5-t-py3.11\\Lib\\site-packages\\tqdm\\auto.py:21: TqdmWarning: IProgress not found. Please update jupyter and ipywidgets. See https://ipywidgets.readthedocs.io/en/stable/user_install.html\n",
      "  from .autonotebook import tqdm as notebook_tqdm\n",
      "None of PyTorch, TensorFlow >= 2.0, or Flax have been found. Models won't be available and only tokenizers, configuration and file/data utilities can be used.\n"
     ]
    }
   ],
   "source": [
    "from utils.prompts import INDUSTRY_RESEARCH_PROMPT, COMPETITOR_ANALYSIS_PROMPT, AI_APPLICATIONS_RESEARCH_PROMPT\n",
    "from utils.settings import project_settings\n",
    "from llama_index.core.settings import Settings\n",
    "\n",
    "prompt_1 = INDUSTRY_RESEARCH_PROMPT.format(company_name=\"Tata Motors\", industry_name=\"Automotive\")\n",
    "prompt_2 = COMPETITOR_ANALYSIS_PROMPT.format(company_name=\"Tata Motors\", industry_name=\"Automotive\")\n",
    "prompt_3 = AI_APPLICATIONS_RESEARCH_PROMPT.format(company_name=\"Tata Motors\", industry_name=\"Automotive\")"
   ]
  },
  {
   "cell_type": "code",
   "execution_count": 2,
   "metadata": {},
   "outputs": [
    {
     "name": "stdout",
     "output_type": "stream",
     "text": [
      "What AI/ML technologies is Tata Motors currently using in their operations and products, including partnerships with AWS, Google Cloud, or Azure.\n",
      "How are AI/ML applications transforming the Automotive industry and what innovative use cases are similar companies implementing.\n",
      "What high-impact AI/ML solutions can be applied to Tata Motors for operational optimization, such as predictive maintenance or supply chain analytics.\n",
      "What AI/ML use cases can enhance customer experience for Tata Motors, including personalized recommendations, intelligent search, or GenAI-powered virtual assistants.\n",
      "What are the feasibility and potential impact of implementing AI/ML use cases for Tata Motors, including required datasets and opportunities for efficiency gains or cost savings.\n"
     ]
    }
   ],
   "source": [
    "res = Settings._llm.complete(prompt_3)\n",
    "print(res.text)"
   ]
  },
  {
   "cell_type": "code",
   "execution_count": null,
   "metadata": {},
   "outputs": [],
   "source": []
  }
 ],
 "metadata": {
  "kernelspec": {
   "display_name": "market-research-agent-m8UpT5-t-py3.11",
   "language": "python",
   "name": "python3"
  },
  "language_info": {
   "codemirror_mode": {
    "name": "ipython",
    "version": 3
   },
   "file_extension": ".py",
   "mimetype": "text/x-python",
   "name": "python",
   "nbconvert_exporter": "python",
   "pygments_lexer": "ipython3",
   "version": "3.11.4"
  }
 },
 "nbformat": 4,
 "nbformat_minor": 2
}
